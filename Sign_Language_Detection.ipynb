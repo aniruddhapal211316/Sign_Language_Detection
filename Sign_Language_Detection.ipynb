{
  "nbformat": 4,
  "nbformat_minor": 0,
  "metadata": {
    "colab": {
      "name": "Sign-Language-Detection.ipynb",
      "provenance": [],
      "collapsed_sections": []
    },
    "kernelspec": {
      "name": "python3",
      "display_name": "Python 3"
    },
    "language_info": {
      "name": "python"
    }
  },
  "cells": [
    {
      "cell_type": "code",
      "source": [
        "# mount google drive \n",
        "from google.colab import drive\n",
        "drive.mount('/content/gdrive')"
      ],
      "metadata": {
        "colab": {
          "base_uri": "https://localhost:8080/"
        },
        "id": "gpuOXnKgI3Er",
        "outputId": "f62c4134-2d95-4000-a7e2-f0ba219c49d3"
      },
      "execution_count": 5,
      "outputs": [
        {
          "output_type": "stream",
          "name": "stdout",
          "text": [
            "Mounted at /content/gdrive\n"
          ]
        }
      ]
    },
    {
      "cell_type": "code",
      "execution_count": 13,
      "metadata": {
        "id": "GBrBpRr4If59"
      },
      "outputs": [],
      "source": [
        "# importing all required libraries\n",
        "import numpy as np \n",
        "import pandas as pd\n",
        "from tensorflow.keras.models import Sequential\n",
        "from tensorflow.keras.layers import Conv2D, MaxPool2D, Flatten, Dense\n",
        "import os "
      ]
    },
    {
      "cell_type": "code",
      "source": [
        "# downloading and unzipping the dataset from kaggle\n",
        "!kaggle datasets download -d datamunge/sign-language-mnist\n",
        "!unzip sign-language-mnist.zip"
      ],
      "metadata": {
        "colab": {
          "base_uri": "https://localhost:8080/"
        },
        "id": "J0D60xuqJxJn",
        "outputId": "a1c215ff-961c-425f-c4ac-f93ece3b3544"
      },
      "execution_count": 12,
      "outputs": [
        {
          "output_type": "stream",
          "name": "stdout",
          "text": [
            "Downloading sign-language-mnist.zip to /content\n",
            " 66% 41.0M/62.6M [00:02<00:01, 18.9MB/s]\n",
            "100% 62.6M/62.6M [00:02<00:00, 23.1MB/s]\n",
            "Archive:  sign-language-mnist.zip\n",
            "  inflating: amer_sign2.png          \n",
            "  inflating: amer_sign3.png          \n",
            "  inflating: american_sign_language.PNG  \n",
            "  inflating: sign_mnist_test.csv     \n",
            "  inflating: sign_mnist_test/sign_mnist_test.csv  \n",
            "  inflating: sign_mnist_train.csv    \n",
            "  inflating: sign_mnist_train/sign_mnist_train.csv  \n"
          ]
        }
      ]
    },
    {
      "cell_type": "code",
      "source": [
        "# preparing our training dataset and testing dataset\n",
        "# the dataset is available on the link: https://drive.google.com/drive/folders/1e45jC_bBNkQYETcrNEoIsblWfPde81mC?usp=sharing\n",
        "train_data_set = pd.read_csv(\"sign_mnist_train.csv\")\n",
        "test_data_set = pd.read_csv(\"sign_mnist_test.csv\")\n",
        "train_data_set = np.array(train_data_set)\n",
        "x_train = train_data_set[:,1:].reshape(-1,28,28)\n",
        "y_train = train_data_set[:,0]\n",
        "test_data_set = np.array(test_data_set)\n",
        "x_test = test_data_set[:,1:].reshape(-1,28,28)\n",
        "y_test = test_data_set[:,0]"
      ],
      "metadata": {
        "id": "UGCAv20NLEHy"
      },
      "execution_count": 78,
      "outputs": []
    },
    {
      "cell_type": "code",
      "source": [
        "# making our model \n",
        "model = Sequential()\n",
        "model.add(Conv2D(64,(3,3),activation=\"relu\",input_shape=(28,28,1)))\n",
        "model.add(MaxPool2D(2,2))\n",
        "model.add(Conv2D(48,(3,3),activation=\"relu\"))\n",
        "model.add(MaxPool2D(2,2))\n",
        "model.add(Conv2D(32,(3,3),activation=\"relu\"))\n",
        "model.add(MaxPool2D(2,2))\n",
        "model.add(Flatten())\n",
        "model.add(Dense(256,activation=\"relu\"))\n",
        "model.add(Dense(128,activation=\"relu\"))\n",
        "model.add(Dense(26,activation=\"softmax\"))\n",
        "model.compile(loss=\"sparse_categorical_crossentropy\",optimizer=\"adam\",metrics=[\"accuracy\"])\n",
        "model.summary()"
      ],
      "metadata": {
        "colab": {
          "base_uri": "https://localhost:8080/"
        },
        "id": "s9H9w5sXORqt",
        "outputId": "f37da1fd-4db2-4ae9-9ea5-3e7d2afdd6b1"
      },
      "execution_count": 79,
      "outputs": [
        {
          "output_type": "stream",
          "name": "stdout",
          "text": [
            "Model: \"sequential_17\"\n",
            "_________________________________________________________________\n",
            " Layer (type)                Output Shape              Param #   \n",
            "=================================================================\n",
            " conv2d_46 (Conv2D)          (None, 26, 26, 64)        640       \n",
            "                                                                 \n",
            " max_pooling2d_46 (MaxPoolin  (None, 13, 13, 64)       0         \n",
            " g2D)                                                            \n",
            "                                                                 \n",
            " conv2d_47 (Conv2D)          (None, 11, 11, 48)        27696     \n",
            "                                                                 \n",
            " max_pooling2d_47 (MaxPoolin  (None, 5, 5, 48)         0         \n",
            " g2D)                                                            \n",
            "                                                                 \n",
            " conv2d_48 (Conv2D)          (None, 3, 3, 32)          13856     \n",
            "                                                                 \n",
            " max_pooling2d_48 (MaxPoolin  (None, 1, 1, 32)         0         \n",
            " g2D)                                                            \n",
            "                                                                 \n",
            " flatten_17 (Flatten)        (None, 32)                0         \n",
            "                                                                 \n",
            " dense_42 (Dense)            (None, 256)               8448      \n",
            "                                                                 \n",
            " dense_43 (Dense)            (None, 128)               32896     \n",
            "                                                                 \n",
            " dense_44 (Dense)            (None, 26)                3354      \n",
            "                                                                 \n",
            "=================================================================\n",
            "Total params: 86,890\n",
            "Trainable params: 86,890\n",
            "Non-trainable params: 0\n",
            "_________________________________________________________________\n"
          ]
        }
      ]
    },
    {
      "cell_type": "code",
      "source": [
        "# training our model \n",
        "model.fit(x_train,y_train,epochs=10)"
      ],
      "metadata": {
        "colab": {
          "base_uri": "https://localhost:8080/"
        },
        "id": "Ird_1X1RUxoO",
        "outputId": "ff6a4c44-b3e0-4283-ad05-f5a6c337b7da"
      },
      "execution_count": 80,
      "outputs": [
        {
          "output_type": "stream",
          "name": "stdout",
          "text": [
            "Epoch 1/10\n",
            "858/858 [==============================] - 38s 44ms/step - loss: 1.2826 - accuracy: 0.5943\n",
            "Epoch 2/10\n",
            "858/858 [==============================] - 37s 44ms/step - loss: 0.2041 - accuracy: 0.9301\n",
            "Epoch 3/10\n",
            "858/858 [==============================] - 38s 44ms/step - loss: 0.0918 - accuracy: 0.9702\n",
            "Epoch 4/10\n",
            "858/858 [==============================] - 37s 43ms/step - loss: 0.0776 - accuracy: 0.9743\n",
            "Epoch 5/10\n",
            "858/858 [==============================] - 37s 43ms/step - loss: 0.0660 - accuracy: 0.9782\n",
            "Epoch 6/10\n",
            "858/858 [==============================] - 37s 43ms/step - loss: 0.0141 - accuracy: 0.9953\n",
            "Epoch 7/10\n",
            "858/858 [==============================] - 36s 42ms/step - loss: 0.0870 - accuracy: 0.9737\n",
            "Epoch 8/10\n",
            "858/858 [==============================] - 37s 43ms/step - loss: 0.0471 - accuracy: 0.9856\n",
            "Epoch 9/10\n",
            "858/858 [==============================] - 36s 42ms/step - loss: 0.0574 - accuracy: 0.9820\n",
            "Epoch 10/10\n",
            "858/858 [==============================] - 36s 42ms/step - loss: 0.0380 - accuracy: 0.9891\n"
          ]
        },
        {
          "output_type": "execute_result",
          "data": {
            "text/plain": [
              "<keras.callbacks.History at 0x7f7b1048f510>"
            ]
          },
          "metadata": {},
          "execution_count": 80
        }
      ]
    },
    {
      "cell_type": "code",
      "source": [
        "# evaluate the model and save the model \n",
        "score = model.evaluate(x_test,y_test,verbose=0)\n",
        "print(\"Test Loss : \", score[0])\n",
        "print(\"Test Accuracy : \", score[1])\n",
        "model.save(\"model/\")"
      ],
      "metadata": {
        "colab": {
          "base_uri": "https://localhost:8080/"
        },
        "id": "7gxfodzKVp5Y",
        "outputId": "ebff31cc-8acd-4dca-cc3b-a9372530c206"
      },
      "execution_count": 82,
      "outputs": [
        {
          "output_type": "stream",
          "name": "stdout",
          "text": [
            "Test Loss :  1.2279928922653198\n",
            "Test Accuracy :  0.8186001181602478\n",
            "INFO:tensorflow:Assets written to: model/assets\n"
          ]
        }
      ]
    },
    {
      "cell_type": "code",
      "source": [
        ""
      ],
      "metadata": {
        "id": "T4NYTboyed3J"
      },
      "execution_count": null,
      "outputs": []
    }
  ]
}